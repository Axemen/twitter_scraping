{
 "cells": [
  {
   "cell_type": "code",
   "execution_count": 17,
   "metadata": {},
   "outputs": [],
   "source": [
    "from splinter import Browser\n",
    "from bs4 import BeautifulSoup as bs"
   ]
  },
  {
   "cell_type": "code",
   "execution_count": 182,
   "metadata": {},
   "outputs": [],
   "source": [
    "browser = Browser('chrome')"
   ]
  },
  {
   "cell_type": "code",
   "execution_count": 183,
   "metadata": {},
   "outputs": [],
   "source": [
    "base_url = \"https://twitter.com/\"\n",
    "# browser.visit(base_url)\n",
    "browser.visit(base_url + 'BarackObama')"
   ]
  },
  {
   "cell_type": "code",
   "execution_count": 18,
   "metadata": {},
   "outputs": [],
   "source": [
    "tweets = soup.find_all('div', class_='tweet')\n",
    "records = []"
   ]
  },
  {
   "cell_type": "code",
   "execution_count": 19,
   "metadata": {},
   "outputs": [
    {
     "data": {
      "text/plain": [
       "[]"
      ]
     },
     "execution_count": 19,
     "metadata": {},
     "output_type": "execute_result"
    }
   ],
   "source": [
    "tweets"
   ]
  },
  {
   "cell_type": "code",
   "execution_count": 142,
   "metadata": {},
   "outputs": [],
   "source": [
    "soup = bs(browser.html, 'html.parser')\n"
   ]
  },
  {
   "cell_type": "code",
   "execution_count": 143,
   "metadata": {},
   "outputs": [
    {
     "data": {
      "text/plain": [
       "''"
      ]
     },
     "execution_count": 143,
     "metadata": {},
     "output_type": "execute_result"
    }
   ],
   "source": [
    "# \"css-1dbjc4n r-18u37iz r-thb0q2\"\n",
    "soup.find_all('div', class_ = 'css-1dbjc4n r-18u37iz r-thb0q2')[2].text"
   ]
  },
  {
   "cell_type": "code",
   "execution_count": 147,
   "metadata": {},
   "outputs": [
    {
     "data": {
      "text/plain": [
       "'As Bobby Kennedy taught us, the thing about hope is that it travels through space *and* time, first splashing against the rocks, but eventually breaking down the walls of cruelty and injustice. And if we do our best with the time we’re given, others will take hope in our example.'"
      ]
     },
     "execution_count": 147,
     "metadata": {},
     "output_type": "execute_result"
    }
   ],
   "source": [
    "soup.find_all('article')[3].find_all('span')[4].text"
   ]
  },
  {
   "cell_type": "code",
   "execution_count": 140,
   "metadata": {},
   "outputs": [],
   "source": [
    "articles = soup.find_all('article')\n",
    "texts = []\n",
    "for article in articles:\n",
    "    text = article.find_all('span')[4].text\n",
    "    texts.append(text)"
   ]
  },
  {
   "cell_type": "code",
   "execution_count": 141,
   "metadata": {},
   "outputs": [
    {
     "data": {
      "text/plain": [
       "5"
      ]
     },
     "execution_count": 141,
     "metadata": {},
     "output_type": "execute_result"
    }
   ],
   "source": [
    "len(texts)"
   ]
  },
  {
   "cell_type": "code",
   "execution_count": 55,
   "metadata": {},
   "outputs": [],
   "source": []
  },
  {
   "cell_type": "code",
   "execution_count": 84,
   "metadata": {},
   "outputs": [],
   "source": [
    "def show_tweets(browser, n):\n",
    "    "
   ]
  },
  {
   "cell_type": "code",
   "execution_count": 85,
   "metadata": {},
   "outputs": [],
   "source": [
    "show_tweets(browser, 100)"
   ]
  },
  {
   "cell_type": "code",
   "execution_count": 97,
   "metadata": {},
   "outputs": [
    {
     "data": {
      "text/plain": [
       "'Every so often, I re-read Dr. King’s Letter from a Birmingham Jail. While some of the injustices may have changed, his poetic brilliance, moral clarity, and tests of conscience still reverberate today. Take a moment to reflect on his righteous call:'"
      ]
     },
     "execution_count": 97,
     "metadata": {},
     "output_type": "execute_result"
    }
   ],
   "source": [
    "# Get tweet text from article\n",
    "article.find_all('span')[4].text"
   ]
  },
  {
   "cell_type": "code",
   "execution_count": 98,
   "metadata": {},
   "outputs": [],
   "source": [
    "def get_text_from_article(article):\n",
    "    return article.find_all('span')[4].text"
   ]
  },
  {
   "cell_type": "code",
   "execution_count": 110,
   "metadata": {},
   "outputs": [
    {
     "data": {
      "text/plain": [
       "'53.4K'"
      ]
     },
     "execution_count": 110,
     "metadata": {},
     "output_type": "execute_result"
    }
   ],
   "source": [
    "article.find_all(\n",
    "    'div', \n",
    "    {\n",
    "        \"data-testid\":\"retweet\"\n",
    "    }\n",
    ")[0].text"
   ]
  },
  {
   "cell_type": "code",
   "execution_count": 111,
   "metadata": {},
   "outputs": [],
   "source": [
    "def get_num_retweets(article):\n",
    "    return article.find_all(\n",
    "        'div', \n",
    "        {\n",
    "            \"data-testid\":\"retweet\"\n",
    "        }\n",
    "    )[0].text"
   ]
  },
  {
   "cell_type": "code",
   "execution_count": 112,
   "metadata": {},
   "outputs": [],
   "source": [
    "def get_num_likes(article):\n",
    "    return article.find_all(\n",
    "        'div', \n",
    "        {\n",
    "            \"data-testid\":\"like\"\n",
    "        }\n",
    ")[0].text"
   ]
  },
  {
   "cell_type": "code",
   "execution_count": 114,
   "metadata": {},
   "outputs": [],
   "source": [
    "def get_num_replies(article):\n",
    "    return article.find_all(\n",
    "        'div', \n",
    "        {\n",
    "            \"data-testid\":\"reply\"\n",
    "        }\n",
    "    )[0].text"
   ]
  },
  {
   "cell_type": "code",
   "execution_count": 120,
   "metadata": {},
   "outputs": [
    {
     "data": {
      "text/plain": [
       "<img alt=\"\" class=\"css-9pa8cd\" draggable=\"true\" src=\"https://pbs.twimg.com/card_img/1217607841667788801/ALhxaFma?format=jpg&amp;name=small\"/>"
      ]
     },
     "execution_count": 120,
     "metadata": {},
     "output_type": "execute_result"
    }
   ],
   "source": [
    "article.find_all('img')[1]"
   ]
  },
  {
   "cell_type": "code",
   "execution_count": 124,
   "metadata": {},
   "outputs": [],
   "source": [
    "def get_media_link(article):\n",
    "    try:\n",
    "        return article.find_all('img')[1]['src']\n",
    "    except:\n",
    "        try:\n",
    "            return article.find_all('video')[0]['poster']\n",
    "        except:\n",
    "            return None"
   ]
  },
  {
   "cell_type": "code",
   "execution_count": 121,
   "metadata": {},
   "outputs": [
    {
     "data": {
      "text/plain": [
       "[<video aria-label=\"Embedded video\" playsinline=\"\" poster=\"https://pbs.twimg.com/media/EQXhWQ0UEAAueu3.jpg\" preload=\"none\" src=\"blob:https://twitter.com/2f9cfd1a-8815-4865-afcd-291ea8575e5e\" style=\"width: 100%; height: 100%; position: absolute; background-color: black; top: 0%; left: 0%; transform: rotate(0deg) scale(1.005);\"></video>]"
      ]
     },
     "execution_count": 121,
     "metadata": {},
     "output_type": "execute_result"
    }
   ],
   "source": [
    "articles[0].find_all('video')"
   ]
  },
  {
   "cell_type": "code",
   "execution_count": 137,
   "metadata": {},
   "outputs": [
    {
     "data": {
      "text/plain": [
       "'https://pbs.twimg.com/card_img/1225499419996495872/6q0Q8gPS?format=jpg&name=small'"
      ]
     },
     "execution_count": 137,
     "metadata": {},
     "output_type": "execute_result"
    }
   ],
   "source": [
    "get_media_link(articles[7])"
   ]
  },
  {
   "cell_type": "code",
   "execution_count": 176,
   "metadata": {},
   "outputs": [],
   "source": [
    "import pandas as pd\n",
    "from pandas import Series\n",
    "from time import sleep"
   ]
  },
  {
   "cell_type": "code",
   "execution_count": 185,
   "metadata": {},
   "outputs": [],
   "source": [
    "n = 100\n",
    "all_articles = []\n",
    "\n",
    "browser.visit('https://www.twitter.com/BarackObama')\n",
    "sleep(2)\n",
    "\n",
    "num_tweets = bs(browser.html, 'html.parser')\\\n",
    "        .find_all('section')[0]['aria-labelledby']\n",
    "\n",
    "while int(num_tweets.split('-')[-1]) < n:\n",
    "    \n",
    "    # Get da broth\n",
    "    soup = bs(browser.html, 'html.parser')\n",
    "    \n",
    "    # find the noodles\n",
    "    articles = soup.find_all('article')\n",
    "    \n",
    "    # pour into the bowl\n",
    "    all_articles.append(articles)\n",
    "    \n",
    "    # get more water\n",
    "    browser.execute_script(\"window.scrollTo(0, document.body.scrollHeight);\")\n",
    "    num_tweets = bs(browser.html, 'html.parser')\\\n",
    "        .find_all('section')[0]['aria-labelledby']"
   ]
  },
  {
   "cell_type": "code",
   "execution_count": 186,
   "metadata": {},
   "outputs": [],
   "source": [
    "flattened_articles = [i for l in all_articles for i in l]"
   ]
  },
  {
   "cell_type": "code",
   "execution_count": 187,
   "metadata": {},
   "outputs": [
    {
     "data": {
      "text/plain": [
       "596"
      ]
     },
     "execution_count": 187,
     "metadata": {},
     "output_type": "execute_result"
    }
   ],
   "source": [
    "len(flattened_articles)"
   ]
  },
  {
   "cell_type": "code",
   "execution_count": 208,
   "metadata": {},
   "outputs": [],
   "source": [
    "articles = Series(flattened_articles).drop_duplicates()"
   ]
  },
  {
   "cell_type": "code",
   "execution_count": 209,
   "metadata": {},
   "outputs": [],
   "source": [
    "texts = []\n",
    "for article in articles:\n",
    "    text = article.find_all('span')[4].text\n",
    "    texts.append(text)"
   ]
  },
  {
   "cell_type": "code",
   "execution_count": 210,
   "metadata": {},
   "outputs": [
    {
     "data": {
      "text/plain": [
       "262"
      ]
     },
     "execution_count": 210,
     "metadata": {},
     "output_type": "execute_result"
    }
   ],
   "source": [
    "len(texts)"
   ]
  },
  {
   "cell_type": "code",
   "execution_count": 215,
   "metadata": {},
   "outputs": [
    {
     "data": {
      "text/plain": [
       "'2020-02-10T02:38:19.000Z'"
      ]
     },
     "execution_count": 215,
     "metadata": {},
     "output_type": "execute_result"
    }
   ],
   "source": [
    "articles[0].find('time')['datetime']"
   ]
  },
  {
   "cell_type": "code",
   "execution_count": 229,
   "metadata": {},
   "outputs": [],
   "source": [
    "df = pd.DataFrame(columns = ['time', 'num_replies', 'num_likes', 'num_retweets', 'tweet_text'])\n",
    "\n",
    "for article in articles:\n",
    "    df = df.append({\n",
    "        'time':articles[0].find('time')['datetime'],\n",
    "        'num_replies':get_num_replies(article),\n",
    "        'num_likes':get_num_likes(article),\n",
    "        'num_retweets':get_num_retweets(article),\n",
    "        'tweet_text':get_text_from_article(article)\n",
    "    }, ignore_index=True)"
   ]
  },
  {
   "cell_type": "code",
   "execution_count": 230,
   "metadata": {},
   "outputs": [
    {
     "data": {
      "text/html": [
       "<div>\n",
       "<style scoped>\n",
       "    .dataframe tbody tr th:only-of-type {\n",
       "        vertical-align: middle;\n",
       "    }\n",
       "\n",
       "    .dataframe tbody tr th {\n",
       "        vertical-align: top;\n",
       "    }\n",
       "\n",
       "    .dataframe thead th {\n",
       "        text-align: right;\n",
       "    }\n",
       "</style>\n",
       "<table border=\"1\" class=\"dataframe\">\n",
       "  <thead>\n",
       "    <tr style=\"text-align: right;\">\n",
       "      <th></th>\n",
       "      <th>time</th>\n",
       "      <th>num_replies</th>\n",
       "      <th>num_likes</th>\n",
       "      <th>num_retweets</th>\n",
       "      <th>tweet_text</th>\n",
       "    </tr>\n",
       "  </thead>\n",
       "  <tbody>\n",
       "    <tr>\n",
       "      <th>0</th>\n",
       "      <td>2020-02-10T02:38:19.000Z</td>\n",
       "      <td>3.2K</td>\n",
       "      <td>176K</td>\n",
       "      <td>23.3K</td>\n",
       "      <td>Congrats to Julia and Steven, the filmmakers b...</td>\n",
       "    </tr>\n",
       "    <tr>\n",
       "      <th>1</th>\n",
       "      <td>2020-02-10T02:38:19.000Z</td>\n",
       "      <td>6K</td>\n",
       "      <td>330.2K</td>\n",
       "      <td>49.3K</td>\n",
       "      <td>Sixty years ago today, the Greensboro Four sto...</td>\n",
       "    </tr>\n",
       "    <tr>\n",
       "      <th>2</th>\n",
       "      <td>2020-02-10T02:38:19.000Z</td>\n",
       "      <td>17.3K</td>\n",
       "      <td>4.1M</td>\n",
       "      <td>691.8K</td>\n",
       "      <td>Kobe was a legend on the court and just gettin...</td>\n",
       "    </tr>\n",
       "    <tr>\n",
       "      <th>3</th>\n",
       "      <td>2020-02-10T02:38:19.000Z</td>\n",
       "      <td>5.2K</td>\n",
       "      <td>264.3K</td>\n",
       "      <td>53.4K</td>\n",
       "      <td>Every so often, I re-read Dr. King’s Letter fr...</td>\n",
       "    </tr>\n",
       "    <tr>\n",
       "      <th>4</th>\n",
       "      <td>2020-02-10T02:38:19.000Z</td>\n",
       "      <td>8K</td>\n",
       "      <td>229.9K</td>\n",
       "      <td>28.6K</td>\n",
       "      <td>Next up are my favorite movies and TV shows of...</td>\n",
       "    </tr>\n",
       "    <tr>\n",
       "      <th>...</th>\n",
       "      <td>...</td>\n",
       "      <td>...</td>\n",
       "      <td>...</td>\n",
       "      <td>...</td>\n",
       "      <td>...</td>\n",
       "    </tr>\n",
       "    <tr>\n",
       "      <th>257</th>\n",
       "      <td>2020-02-10T02:38:19.000Z</td>\n",
       "      <td>281</td>\n",
       "      <td>3.2K</td>\n",
       "      <td>914</td>\n",
       "      <td>From coast to coast, editorial boards are deno...</td>\n",
       "    </tr>\n",
       "    <tr>\n",
       "      <th>258</th>\n",
       "      <td>2020-02-10T02:38:19.000Z</td>\n",
       "      <td>308</td>\n",
       "      <td>4.2K</td>\n",
       "      <td>1.2K</td>\n",
       "      <td>Our Supreme Court has been short a justice for...</td>\n",
       "    </tr>\n",
       "    <tr>\n",
       "      <th>259</th>\n",
       "      <td>2020-02-10T02:38:19.000Z</td>\n",
       "      <td>368</td>\n",
       "      <td>6.5K</td>\n",
       "      <td>1.3K</td>\n",
       "      <td>There's still more work to do, but let's celeb...</td>\n",
       "    </tr>\n",
       "    <tr>\n",
       "      <th>260</th>\n",
       "      <td>2020-02-10T02:38:19.000Z</td>\n",
       "      <td>270</td>\n",
       "      <td>3K</td>\n",
       "      <td>730</td>\n",
       "      <td>White House Archived</td>\n",
       "    </tr>\n",
       "    <tr>\n",
       "      <th>261</th>\n",
       "      <td>2020-02-10T02:38:19.000Z</td>\n",
       "      <td>301</td>\n",
       "      <td>3.5K</td>\n",
       "      <td>994</td>\n",
       "      <td>There's a lot of misinformation floating aroun...</td>\n",
       "    </tr>\n",
       "  </tbody>\n",
       "</table>\n",
       "<p>262 rows × 5 columns</p>\n",
       "</div>"
      ],
      "text/plain": [
       "                         time num_replies num_likes num_retweets  \\\n",
       "0    2020-02-10T02:38:19.000Z        3.2K      176K        23.3K   \n",
       "1    2020-02-10T02:38:19.000Z          6K    330.2K        49.3K   \n",
       "2    2020-02-10T02:38:19.000Z       17.3K      4.1M       691.8K   \n",
       "3    2020-02-10T02:38:19.000Z        5.2K    264.3K        53.4K   \n",
       "4    2020-02-10T02:38:19.000Z          8K    229.9K        28.6K   \n",
       "..                        ...         ...       ...          ...   \n",
       "257  2020-02-10T02:38:19.000Z         281      3.2K          914   \n",
       "258  2020-02-10T02:38:19.000Z         308      4.2K         1.2K   \n",
       "259  2020-02-10T02:38:19.000Z         368      6.5K         1.3K   \n",
       "260  2020-02-10T02:38:19.000Z         270        3K          730   \n",
       "261  2020-02-10T02:38:19.000Z         301      3.5K          994   \n",
       "\n",
       "                                            tweet_text  \n",
       "0    Congrats to Julia and Steven, the filmmakers b...  \n",
       "1    Sixty years ago today, the Greensboro Four sto...  \n",
       "2    Kobe was a legend on the court and just gettin...  \n",
       "3    Every so often, I re-read Dr. King’s Letter fr...  \n",
       "4    Next up are my favorite movies and TV shows of...  \n",
       "..                                                 ...  \n",
       "257  From coast to coast, editorial boards are deno...  \n",
       "258  Our Supreme Court has been short a justice for...  \n",
       "259  There's still more work to do, but let's celeb...  \n",
       "260                               White House Archived  \n",
       "261  There's a lot of misinformation floating aroun...  \n",
       "\n",
       "[262 rows x 5 columns]"
      ]
     },
     "execution_count": 230,
     "metadata": {},
     "output_type": "execute_result"
    }
   ],
   "source": [
    "df"
   ]
  },
  {
   "cell_type": "code",
   "execution_count": null,
   "metadata": {},
   "outputs": [],
   "source": []
  }
 ],
 "metadata": {
  "kernelspec": {
   "display_name": "Python 3",
   "language": "python",
   "name": "python3"
  },
  "language_info": {
   "codemirror_mode": {
    "name": "ipython",
    "version": 3
   },
   "file_extension": ".py",
   "mimetype": "text/x-python",
   "name": "python",
   "nbconvert_exporter": "python",
   "pygments_lexer": "ipython3",
   "version": "3.7.6"
  }
 },
 "nbformat": 4,
 "nbformat_minor": 4
}
